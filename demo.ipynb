{
  "cells": [
    {
      "cell_type": "code",
      "execution_count": 1,
      "metadata": {
        "id": "TNyRqiwMg4n9"
      },
      "outputs": [],
      "source": [
        "import matplotlib.pyplot as plt"
      ],
      "id": "TNyRqiwMg4n9"
    },
    {
      "cell_type": "code",
      "execution_count": 2,
      "metadata": {
        "id": "b06c62cc"
      },
      "outputs": [],
      "source": [
        "import pandas as pd\n",
        "import numpy as np\n",
        "import torch\n",
        "import torch.nn as nn\n",
        "import torch.nn.functional as F\n",
        "import torch.optim as optim\n",
        "import string\n",
        "import nltk\n",
        "from nltk.corpus import stopwords\n",
        "from nltk.tokenize import word_tokenize\n",
        "from sklearn.model_selection import train_test_split\n",
        "import re\n",
        "\n",
        "# Set the device\n",
        "DEVICE = torch.device('cpu')\n",
        "torch.autograd.set_detect_anomaly(True)\n",
        "\n",
        "# Read the data\n",
        "data = pd.read_csv('movie.csv')\n",
        "#data = data[:250]\n",
        "reviews = data['review']\n",
        "labels = data['sentiment'].map({'positive': 1, 'negative': 0}).values\n",
        "\n"
      ],
      "id": "b06c62cc"
    },
    {
      "cell_type": "code",
      "execution_count": 3,
      "metadata": {
        "id": "a0b2ce9c"
      },
      "outputs": [],
      "source": [
        "def preprocess_text(text):\n",
        "    # Remove HTML tags\n",
        "    text = re.sub('<.*?>', '', text)\n",
        "    # Remove non-alphanumeric characters\n",
        "    text = re.sub(r'\\W+', ' ', text)\n",
        "    # Convert to lowercase\n",
        "    text = text.lower()\n",
        "    return text"
      ],
      "id": "a0b2ce9c"
    },
    {
      "cell_type": "code",
      "execution_count": 4,
      "metadata": {
        "id": "68b0864e"
      },
      "outputs": [],
      "source": [
        "reviews = reviews.apply(preprocess_text)"
      ],
      "id": "68b0864e"
    },
    {
      "cell_type": "code",
      "execution_count": 5,
      "metadata": {
        "id": "5a6d7687"
      },
      "outputs": [],
      "source": [
        "def tokenize_text(text):\n",
        "    return list(text)"
      ],
      "id": "5a6d7687"
    },
    {
      "cell_type": "code",
      "execution_count": 6,
      "metadata": {
        "id": "721a7262"
      },
      "outputs": [],
      "source": [
        "reviews = reviews.apply(tokenize_text)"
      ],
      "id": "721a7262"
    },
    {
      "cell_type": "code",
      "execution_count": 7,
      "metadata": {
        "id": "a992a305"
      },
      "outputs": [],
      "source": [
        "all_chars = string.printable\n",
        "char_to_index = {ch: i for i, ch in enumerate(all_chars)}"
      ],
      "id": "a992a305"
    },
    {
      "cell_type": "code",
      "execution_count": 8,
      "metadata": {
        "id": "59aa0432"
      },
      "outputs": [],
      "source": [
        "char_to_index['<unk>'] = len(all_chars)"
      ],
      "id": "59aa0432"
    },
    {
      "cell_type": "code",
      "execution_count": 9,
      "metadata": {
        "id": "f8a58294"
      },
      "outputs": [],
      "source": [
        "def sequence_to_tensor(seq):\n",
        "\n",
        "    if len(seq) < 50:\n",
        "        adding = 50-len(seq)\n",
        "        tensor = torch.zeros(len(seq), dtype=torch.long)\n",
        "        for i in range(len(seq)):\n",
        "            char = seq[i]\n",
        "            if char in char_to_index:\n",
        "                tensor[i] = char_to_index[char]\n",
        "            else:\n",
        "                tensor[i] = char_to_index.get('<unk>', len(char_to_index))\n",
        "        temp = torch.zeros(adding, dtype=torch.long)\n",
        "        tensor = torch.cat((tensor,temp))\n",
        "    else:\n",
        "        tensor = torch.zeros(50, dtype=torch.long)\n",
        "        for i in range(50):\n",
        "            char = seq[i]\n",
        "            if char in char_to_index:\n",
        "                tensor[i] = char_to_index[char]\n",
        "            else:\n",
        "                tensor[i] = char_to_index.get('<unk>', len(char_to_index))\n",
        "    return tensor\n",
        "\n",
        "\n"
      ],
      "id": "f8a58294"
    },
    {
      "cell_type": "code",
      "execution_count": 10,
      "metadata": {
        "id": "60320902"
      },
      "outputs": [],
      "source": [
        "data = [sequence_to_tensor(seq) for seq in reviews]"
      ],
      "id": "60320902"
    },
    {
      "cell_type": "code",
      "execution_count": 11,
      "metadata": {
        "id": "8d53ddee"
      },
      "outputs": [],
      "source": [
        "train_data, test_data, train_labels, test_labels = train_test_split(data, labels, test_size=0.4, random_state=42)\n",
        "#valid_data, test_data, valid_labels, test_labels = train_test_split(test_data, test_labels, test_size=0.5, random_state=42)"
      ],
      "id": "8d53ddee"
    },
    {
      "cell_type": "code",
      "execution_count": 12,
      "metadata": {
        "id": "da8c888a"
      },
      "outputs": [],
      "source": [
        "train_data = train_data[0:300]\n",
        "train_labels = train_labels[0:300]\n",
        "test_data = test_data[0:120]\n",
        "test_labels = test_labels[0:120]\n",
        "#valid_data = valid_data[0:50]\n",
        "#valid_labels = valid_labels[0:50]"
      ],
      "id": "da8c888a"
    },
    {
      "cell_type": "code",
      "execution_count": 50,
      "metadata": {
        "id": "340cd102"
      },
      "outputs": [],
      "source": [
        "class CharRNN(nn.Module):\n",
        "    def __init__(self, input_size, embedding_size, hidden_size, output_size):\n",
        "        super().__init__()\n",
        "\n",
        "        self.embedding = nn.Embedding(input_size, embedding_size)\n",
        "\n",
        "        self.rnn = torch.nn.LSTM(embedding_size, hidden_size)\n",
        "\n",
        "        self.fc = nn.Linear(hidden_size, output_size)\n",
        "        self.dropout = nn.Dropout(p=0.3)\n",
        "\n",
        "    def forward(self, char, hidden_and_cell_state):\n",
        "        embedded = self.embedding(char)\n",
        "\n",
        "        output, hidden_and_cell_state = self.rnn(embedded, hidden_and_cell_state)\n",
        "        output = self.dropout(hidden_and_cell_state[0][-1])\n",
        "        output = output.squeeze(0)\n",
        "\n",
        "        output = self.fc(output)\n",
        "\n",
        "        return output,hidden_and_cell_state\n",
        "\n",
        "    def init_zero_state(self):\n",
        "        init_hidden = torch.zeros(1, hidden_size).to(DEVICE)\n",
        "        init_cell = torch.zeros(1, hidden_size).to(DEVICE)\n",
        "        return (init_hidden, init_cell)\n",
        "\n",
        "\n"
      ],
      "id": "340cd102"
    },
    {
      "cell_type": "code",
      "execution_count": 51,
      "metadata": {
        "id": "f87e3eab"
      },
      "outputs": [],
      "source": [
        "input_size = len(all_chars)\n",
        "hidden_size = 100\n",
        "output_size = 2\n",
        "batch_size = 1\n",
        "learning_rate = 0.001\n",
        "embedding_size = 100\n",
        "NUM_EPOCHS = 25\n"
      ],
      "id": "f87e3eab"
    },
    {
      "cell_type": "code",
      "execution_count": 52,
      "metadata": {
        "id": "5fbb2111",
        "colab": {
          "base_uri": "https://localhost:8080/"
        },
        "outputId": "d1af3fa5-6f52-446a-ae3a-d370ea2f9aee"
      },
      "outputs": [
        {
          "output_type": "execute_result",
          "data": {
            "text/plain": [
              "CharRNN(\n",
              "  (embedding): Embedding(100, 100)\n",
              "  (rnn): LSTM(100, 100)\n",
              "  (fc): Linear(in_features=100, out_features=2, bias=True)\n",
              "  (dropout): Dropout(p=0.3, inplace=False)\n",
              ")"
            ]
          },
          "metadata": {},
          "execution_count": 52
        }
      ],
      "source": [
        "model1 = CharRNN(input_size,embedding_size, hidden_size, output_size)\n",
        "model1 = model1.to(DEVICE)\n",
        "model1\n"
      ],
      "id": "5fbb2111"
    },
    {
      "cell_type": "code",
      "execution_count": 53,
      "metadata": {
        "id": "ELMGgM9IyhTt"
      },
      "outputs": [],
      "source": [
        "model2 = CharRNN(input_size,embedding_size, hidden_size, output_size)\n",
        "model2 = model2.to(DEVICE)"
      ],
      "id": "ELMGgM9IyhTt"
    },
    {
      "cell_type": "code",
      "execution_count": 54,
      "metadata": {
        "id": "90f6fc10"
      },
      "outputs": [],
      "source": [
        "\n",
        "optimizer1 = optim.Adam(model1.parameters(), lr=learning_rate)"
      ],
      "id": "90f6fc10"
    },
    {
      "cell_type": "code",
      "execution_count": 55,
      "metadata": {
        "id": "ImmYVzwbSlH9"
      },
      "outputs": [],
      "source": [
        "optimizer2 = optim.SGD(model2.parameters(), lr=learning_rate)"
      ],
      "id": "ImmYVzwbSlH9"
    },
    {
      "cell_type": "code",
      "execution_count": 56,
      "metadata": {
        "id": "d790e458"
      },
      "outputs": [],
      "source": [
        "def compute_accuracy(model, review, label, device):\n",
        "\n",
        "    with torch.no_grad():\n",
        "\n",
        "        correct_pred, num_examples = 0, 0\n",
        "\n",
        "        for i in range(len(review)):\n",
        "            count_pos,count_neg = 0,0\n",
        "            hidden_and_cell_state = model.init_zero_state()\n",
        "            rev = review[i]\n",
        "            lab = label[i]\n",
        "            lab = torch.tensor(lab,dtype=torch.long)\n",
        "            rev = inputs.to(DEVICE)\n",
        "            lab = labels.to(DEVICE)\n",
        "            for c in range(50):\n",
        "                outputs, hidden_and_cell_state = model(rev[c].view(1), hidden_and_cell_state)\n",
        "                outputs = outputs.unsqueeze(0)\n",
        "                predicted_prob = torch.softmax(outputs, dim=1)\n",
        "                predicted_label_index = torch.argmax(predicted_prob)\n",
        "                correct_pred += (predicted_label_index== lab).sum()\n",
        "                num_examples += 1\n",
        "\n",
        "    return correct_pred/num_examples * 100"
      ],
      "id": "d790e458"
    },
    {
      "cell_type": "code",
      "execution_count": 57,
      "metadata": {
        "id": "23bd746c",
        "scrolled": true,
        "colab": {
          "base_uri": "https://localhost:8080/",
          "height": 1000
        },
        "outputId": "3924aaa0-6404-4870-9a0b-83684f96c386"
      },
      "outputs": [
        {
          "output_type": "stream",
          "name": "stdout",
          "text": [
            "Epoch: 001/025 | Batch 000/300 | Loss: 35.8023\n",
            "Epoch: 001/025 | Batch 100/300 | Loss: 33.3639\n",
            "Epoch: 001/025 | Batch 200/300 | Loss: 39.0733\n",
            "training accuracy: 67.82%\n",
            "Epoch: 002/025 | Batch 000/300 | Loss: 36.9355\n",
            "Epoch: 002/025 | Batch 100/300 | Loss: 33.5392\n",
            "Epoch: 002/025 | Batch 200/300 | Loss: 38.2250\n",
            "training accuracy: 84.82%\n",
            "Epoch: 003/025 | Batch 000/300 | Loss: 37.2877\n",
            "Epoch: 003/025 | Batch 100/300 | Loss: 33.2200\n",
            "Epoch: 003/025 | Batch 200/300 | Loss: 37.3975\n",
            "training accuracy: 85.59%\n",
            "Epoch: 004/025 | Batch 000/300 | Loss: 37.4056\n",
            "Epoch: 004/025 | Batch 100/300 | Loss: 33.0784\n",
            "Epoch: 004/025 | Batch 200/300 | Loss: 37.9516\n",
            "training accuracy: 82.66%\n",
            "Epoch: 005/025 | Batch 000/300 | Loss: 36.9892\n",
            "Epoch: 005/025 | Batch 100/300 | Loss: 33.1215\n",
            "Epoch: 005/025 | Batch 200/300 | Loss: 38.0708\n",
            "training accuracy: 79.03%\n",
            "Epoch: 006/025 | Batch 000/300 | Loss: 37.0350\n",
            "Epoch: 006/025 | Batch 100/300 | Loss: 32.3315\n",
            "Epoch: 006/025 | Batch 200/300 | Loss: 38.1353\n",
            "training accuracy: 73.60%\n",
            "Epoch: 007/025 | Batch 000/300 | Loss: 36.4201\n",
            "Epoch: 007/025 | Batch 100/300 | Loss: 31.9672\n",
            "Epoch: 007/025 | Batch 200/300 | Loss: 38.5978\n",
            "training accuracy: 67.75%\n",
            "Epoch: 008/025 | Batch 000/300 | Loss: 33.6198\n",
            "Epoch: 008/025 | Batch 100/300 | Loss: 31.9201\n",
            "Epoch: 008/025 | Batch 200/300 | Loss: 41.0145\n",
            "training accuracy: 84.41%\n",
            "Epoch: 009/025 | Batch 000/300 | Loss: 33.9196\n",
            "Epoch: 009/025 | Batch 100/300 | Loss: 31.9686\n",
            "Epoch: 009/025 | Batch 200/300 | Loss: 43.3381\n",
            "training accuracy: 90.36%\n",
            "Epoch: 010/025 | Batch 000/300 | Loss: 30.7668\n",
            "Epoch: 010/025 | Batch 100/300 | Loss: 40.2966\n",
            "Epoch: 010/025 | Batch 200/300 | Loss: 24.9913\n",
            "training accuracy: 93.85%\n",
            "Epoch: 011/025 | Batch 000/300 | Loss: 24.1724\n",
            "Epoch: 011/025 | Batch 100/300 | Loss: 25.1104\n",
            "Epoch: 011/025 | Batch 200/300 | Loss: 20.2803\n",
            "training accuracy: 93.69%\n",
            "Epoch: 012/025 | Batch 000/300 | Loss: 13.9563\n",
            "Epoch: 012/025 | Batch 100/300 | Loss: 15.3391\n",
            "Epoch: 012/025 | Batch 200/300 | Loss: 15.7077\n",
            "training accuracy: 94.91%\n",
            "Epoch: 013/025 | Batch 000/300 | Loss: 12.6607\n",
            "Epoch: 013/025 | Batch 100/300 | Loss: 5.6401\n",
            "Epoch: 013/025 | Batch 200/300 | Loss: 8.3232\n",
            "training accuracy: 89.51%\n",
            "Epoch: 014/025 | Batch 000/300 | Loss: 11.2718\n",
            "Epoch: 014/025 | Batch 100/300 | Loss: 4.6506\n",
            "Epoch: 014/025 | Batch 200/300 | Loss: 7.6423\n",
            "training accuracy: 96.14%\n",
            "Epoch: 015/025 | Batch 000/300 | Loss: 11.3033\n",
            "Epoch: 015/025 | Batch 100/300 | Loss: 3.1961\n",
            "Epoch: 015/025 | Batch 200/300 | Loss: 9.3081\n",
            "training accuracy: 90.17%\n",
            "Epoch: 016/025 | Batch 000/300 | Loss: 5.7362\n",
            "Epoch: 016/025 | Batch 100/300 | Loss: 3.2454\n",
            "Epoch: 016/025 | Batch 200/300 | Loss: 5.2877\n",
            "training accuracy: 95.55%\n",
            "Epoch: 017/025 | Batch 000/300 | Loss: 4.8467\n",
            "Epoch: 017/025 | Batch 100/300 | Loss: 1.4165\n",
            "Epoch: 017/025 | Batch 200/300 | Loss: 3.6599\n",
            "training accuracy: 95.87%\n",
            "Epoch: 018/025 | Batch 000/300 | Loss: 3.1699\n",
            "Epoch: 018/025 | Batch 100/300 | Loss: 1.0405\n",
            "Epoch: 018/025 | Batch 200/300 | Loss: 4.0747\n",
            "training accuracy: 97.85%\n",
            "Epoch: 019/025 | Batch 000/300 | Loss: 5.5254\n",
            "Epoch: 019/025 | Batch 100/300 | Loss: 1.9767\n",
            "Epoch: 019/025 | Batch 200/300 | Loss: 2.4514\n",
            "training accuracy: 97.53%\n",
            "Epoch: 020/025 | Batch 000/300 | Loss: 3.8129\n",
            "Epoch: 020/025 | Batch 100/300 | Loss: 0.9395\n",
            "Epoch: 020/025 | Batch 200/300 | Loss: 2.4399\n",
            "training accuracy: 97.43%\n",
            "Epoch: 021/025 | Batch 000/300 | Loss: 2.8099\n",
            "Epoch: 021/025 | Batch 100/300 | Loss: 1.0267\n",
            "Epoch: 021/025 | Batch 200/300 | Loss: 1.8222\n",
            "training accuracy: 97.73%\n",
            "Epoch: 022/025 | Batch 000/300 | Loss: 2.6240\n",
            "Epoch: 022/025 | Batch 100/300 | Loss: 0.7098\n",
            "Epoch: 022/025 | Batch 200/300 | Loss: 20.8844\n",
            "training accuracy: 95.87%\n",
            "Epoch: 023/025 | Batch 000/300 | Loss: 3.2573\n",
            "Epoch: 023/025 | Batch 100/300 | Loss: 0.8433\n",
            "Epoch: 023/025 | Batch 200/300 | Loss: 3.5179\n",
            "training accuracy: 97.43%\n",
            "Epoch: 024/025 | Batch 000/300 | Loss: 3.0684\n",
            "Epoch: 024/025 | Batch 100/300 | Loss: 0.7426\n",
            "Epoch: 024/025 | Batch 200/300 | Loss: 2.4587\n",
            "training accuracy: 99.17%\n",
            "Epoch: 025/025 | Batch 000/300 | Loss: 2.8173\n",
            "Epoch: 025/025 | Batch 100/300 | Loss: 1.1156\n",
            "Epoch: 025/025 | Batch 200/300 | Loss: 1.9322\n",
            "training accuracy: 97.75%\n",
            "Test accuracy: 97.87%\n"
          ]
        },
        {
          "output_type": "display_data",
          "data": {
            "text/plain": [
              "<Figure size 640x480 with 1 Axes>"
            ],
            "image/png": "[encoded data removed]"
          },
          "metadata": {}
        }
      ],
      "source": [
        "all_loss = []\n",
        "for epoch in range(NUM_EPOCHS):\n",
        "    losssum = 0\n",
        "    model1.train()\n",
        "    for i in range(len(train_data)):\n",
        "\n",
        "        hidden_and_cell_state = model1.init_zero_state()\n",
        "        loss = 0\n",
        "        inputs = train_data[i]\n",
        "        labels = train_labels[i]\n",
        "        labels = torch.tensor(labels,dtype=torch.long)\n",
        "        inputs = inputs.to(DEVICE)\n",
        "        labels = labels.to(DEVICE)\n",
        "\n",
        "        optimizer1.zero_grad()\n",
        "\n",
        "        for c in range(50):\n",
        "\n",
        "            outputs, hidden_and_cell_state = model1(inputs[c].view(1), hidden_and_cell_state)\n",
        "            loss +=  F.cross_entropy(outputs, labels)\n",
        "\n",
        "        loss.backward()\n",
        "        optimizer1.step()\n",
        "        losssum += loss\n",
        "        ### LOGGING\n",
        "        if not i % 100:\n",
        "            print (f'Epoch: {epoch+1:03d}/{NUM_EPOCHS:03d} | '\n",
        "                   f'Batch {i:03d}/{len(train_data):03d} | '\n",
        "                   f'Loss: {loss:.4f}')\n",
        "    all_loss.append(losssum.item() / len(train_data))\n",
        "    with torch.set_grad_enabled(False):\n",
        "        print(f'training accuracy: '\n",
        "              f'{compute_accuracy(model1, train_data,train_labels, DEVICE):.2f}%')\n",
        "\n",
        "    #print(f'Time elapsed: {(time.time() - start_time)/60:.2f} min')\n",
        "\n",
        "#print(f'Total Training Time: {(time.time() - start_time)/60:.2f} min')\n",
        "\n",
        "print(f'Test accuracy: {compute_accuracy(model1, test_data,test_labels, DEVICE):.2f}%')\n",
        "plt.xlabel('epoch')\n",
        "plt.ylabel('loss')\n",
        "plt.plot(all_loss)\n",
        "plt.show()"
      ],
      "id": "23bd746c"
    },
    {
      "cell_type": "code",
      "execution_count": 21,
      "metadata": {
        "id": "gen7JZjXzEZ-"
      },
      "outputs": [],
      "source": [
        "# all_loss = []\n",
        "# for epoch in range(NUM_EPOCHS):\n",
        "\n",
        "#     losssum = 0\n",
        "#     model2.train()\n",
        "#     for i in range(len(train_data)):\n",
        "#         hidden_and_cell_state = model2.init_zero_state()\n",
        "#         loss = 0\n",
        "#         inputs = train_data[i]\n",
        "#         labels = train_labels[i]\n",
        "#         labels = torch.tensor(labels,dtype=torch.long)\n",
        "#         inputs = inputs.to(DEVICE)\n",
        "#         labels = labels.to(DEVICE)\n",
        "\n",
        "#         optimizer2.zero_grad()\n",
        "\n",
        "#         for c in range(50):\n",
        "\n",
        "#             outputs, hidden_and_cell_state = model2(inputs[c].view(1), hidden_and_cell_state)\n",
        "#             loss +=  F.cross_entropy(outputs, labels)\n",
        "#         loss = loss/50\n",
        "#         losssum += loss\n",
        "\n",
        "\n",
        "#         loss.backward()\n",
        "#         optimizer2.step()\n",
        "\n",
        "#         ### LOGGING\n",
        "#         if not i % 100:\n",
        "#             print (f'Epoch: {epoch+1:03d}/{NUM_EPOCHS:03d} | '\n",
        "#                    f'Batch {i:03d}/{len(train_data):03d} | '\n",
        "#                    f'Loss: {loss:.4f}')\n",
        "#     all_loss.append(losssum / len(train_data))\n",
        "#     with torch.set_grad_enabled(False):\n",
        "#         print(f'training accuracy: '\n",
        "#               f'{compute_accuracy(model2, train_data,train_labels, DEVICE):.2f}%')\n",
        "\n",
        "#     #print(f'Time elapsed: {(time.time() - start_time)/60:.2f} min')\n",
        "\n",
        "# #print(f'Total Training Time: {(time.time() - start_time)/60:.2f} min')\n",
        "\n",
        "# print(f'Test accuracy: {compute_accuracy(model2, test_data,test_labels, DEVICE):.2f}%')\n",
        "# plt.xlabel('epoch')\n",
        "# plt.ylabel('loss')\n",
        "# plt.plot(all_loss)\n",
        "# plt.show()"
      ],
      "id": "gen7JZjXzEZ-"
    },
    {
      "cell_type": "code",
      "execution_count": 21,
      "metadata": {
        "id": "2LTLJZIF0o-l"
      },
      "outputs": [],
      "source": [],
      "id": "2LTLJZIF0o-l"
    },
    {
      "cell_type": "code",
      "execution_count": 22,
      "metadata": {
        "id": "14e8327b"
      },
      "outputs": [],
      "source": [
        "def evaluate(model, seqs, predict_len=50):\n",
        "    model.eval()\n",
        "    hidden_and_cell_state = model.init_zero_state()\n",
        "    input = preprocess_text(seqs)\n",
        "    input =  tokenize_text(input)\n",
        "    input = sequence_to_tensor(seqs)\n",
        "    input = input.to(DEVICE)\n",
        "\n",
        "    for p in range(len(input)):\n",
        "\n",
        "        # Sample from the network as a multinomial distribution\n",
        "        outputs, hidden_and_cell_state = model(input[p].view(1), hidden_and_cell_state)\n",
        "        outputs = outputs.unsqueeze(0)\n",
        "\n",
        "        predicted_prob = torch.softmax(outputs, dim=1)\n",
        "        predicted_label_index = torch.argmax(predicted_prob)\n",
        "\n",
        "\n",
        "    if(predicted_label_index == 0 ):\n",
        "      return \"this is a negative review\"\n",
        "    else:\n",
        "      return \"this is a positive review\"\n"
      ],
      "id": "14e8327b"
    },
    {
      "cell_type": "code",
      "execution_count": 23,
      "metadata": {
        "id": "NQ-hSlPmskNA",
        "colab": {
          "base_uri": "https://localhost:8080/"
        },
        "outputId": "689f1ed3-81d6-4a5e-d8fa-8320db2ae89a"
      },
      "outputs": [
        {
          "output_type": "stream",
          "name": "stdout",
          "text": [
            "***Movie Review: I hate this movie ***Evaluation:  this is a positive review\n",
            "***Movie Review: trash ***Evaluation:  this is a negative review\n",
            "***Movie Review: extremely awesome! everybody should see this movie ***Evaluation:  this is a negative review\n",
            "***Movie Review: so damn fun, my kids loved it ***Evaluation:  this is a negative review\n",
            "***Movie Review: too much sex scene for no reason. do not bring your parents. ***Evaluation:  this is a negative review\n",
            "***Movie Review: John Wick brought out the pure form of me, i want to fight like him  ***Evaluation:  this is a negative review\n"
          ]
        }
      ],
      "source": [
        "modle = model1\n",
        "seqs = ['I hate this movie','trash','extremely awesome! everybody should see this movie','so damn fun, my kids loved it','too much sex scene for no reason. do not bring your parents.','John Wick brought out the pure form of me, i want to fight like him ']\n",
        "\n",
        "for i in range(len(seqs)):\n",
        "  print(\"***Movie Review:\", seqs[i],  \"***Evaluation: \",evaluate(modle, seqs[i], predict_len=50))"
      ],
      "id": "NQ-hSlPmskNA"
    },
    {
      "cell_type": "code",
      "source": [
        "modle = model1\n",
        "seqs = ['I beleive I waisted plenty of time just by watching this meaningful less movie.']\n",
        "\n",
        "for i in range(len(seqs)):\n",
        "  print(\"***Movie Review:\", seqs[i],  \"***Evaluation: \",evaluate(modle, seqs[i], predict_len=50))"
      ],
      "metadata": {
        "colab": {
          "base_uri": "https://localhost:8080/"
        },
        "id": "H6zDLspaloVt",
        "outputId": "ededff3b-38ea-4cf6-a80c-3c024764aab0"
      },
      "id": "H6zDLspaloVt",
      "execution_count": 24,
      "outputs": [
        {
          "output_type": "stream",
          "name": "stdout",
          "text": [
            "***Movie Review: I beleive I waisted plenty of time just by watching this meaningful less movie. ***Evaluation:  this is a negative review\n"
          ]
        }
      ]
    },
    {
      "cell_type": "code",
      "execution_count": 25,
      "metadata": {
        "id": "Mk_HZV2d0QWR"
      },
      "outputs": [],
      "source": [
        "# modle = model2\n",
        "# seqs = ['I hate this movie','trash','extremely awesome! everybody should see this movie','so damn fun, my kids loved it','too much sex scene for no reason. do not bring your parents.','John Wick brought out the pure form of me, i want to fight like him ']\n",
        "# for i in seqs:\n",
        "#   evaluate(modle, seqs[i], predict_len=50)"
      ],
      "id": "Mk_HZV2d0QWR"
    }
  ],
  "metadata": {
    "colab": {
      "provenance": []
    },
    "kernelspec": {
      "display_name": "Python 3 (ipykernel)",
      "language": "python",
      "name": "python3"
    },
    "language_info": {
      "codemirror_mode": {
        "name": "ipython",
        "version": 3
      },
      "file_extension": ".py",
      "mimetype": "text/x-python",
      "name": "python",
      "nbconvert_exporter": "python",
      "pygments_lexer": "ipython3",
      "version": "3.9.5"
    }
  },
  "nbformat": 4,
  "nbformat_minor": 5
}